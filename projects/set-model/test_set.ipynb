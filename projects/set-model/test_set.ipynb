{
 "cells": [
  {
   "cell_type": "code",
   "execution_count": 15,
   "metadata": {},
   "outputs": [
    {
     "name": "stdout",
     "output_type": "stream",
     "text": [
      "The autoreload extension is already loaded. To reload it, use:\n",
      "  %reload_ext autoreload\n"
     ]
    }
   ],
   "source": [
    "%load_ext autoreload\n",
    "%autoreload 2\n",
    "\n",
    "import torch\n",
    "import torch.optim as optim\n",
    "\n",
    "torch.manual_seed(32)\n",
    "device = torch.device('cpu')\n",
    "if torch.cuda.is_available(): device = torch.device('cuda')\n",
    "\n",
    "from utils import *\n",
    "from main import *\n",
    "from models import *\n",
    "\n",
    "train_loader, test_loader = load_data('FashionMNIST')"
   ]
  },
  {
   "cell_type": "code",
   "execution_count": 16,
   "metadata": {},
   "outputs": [],
   "source": [
    "# switch to SGD with weight decay\n",
    "model = MLP_set(device=device)\n",
    "optimizer = optim.SGD(model.parameters(), lr=1e-2, weight_decay=2e-4, momentum=0.9)\n",
    "loss_func = nn.CrossEntropyLoss()"
   ]
  },
  {
   "cell_type": "code",
   "execution_count": 17,
   "metadata": {},
   "outputs": [
    {
     "name": "stdout",
     "output_type": "stream",
     "text": [
      "Epoch: 1 Train loss: 3.5399 Train Acc: 0.8355 Val loss: 3.0442 Val Acc: 0.8587\n",
      "------------------------\n",
      "0.04533928571428569\n",
      "0.03969800000000001\n",
      "0.03994399999999998\n",
      "------------------------\n",
      "Epoch: 2 Train loss: 2.5722 Train Acc: 0.8783 Val loss: 2.9002 Val Acc: 0.8645\n",
      "------------------------\n",
      "0.04525637755102041\n",
      "0.03982300000000005\n",
      "0.03997200000000001\n",
      "------------------------\n",
      "Epoch: 3 Train loss: 2.5433 Train Acc: 0.8792 Val loss: 2.9342 Val Acc: 0.8638\n",
      "------------------------\n",
      "0.045396683673469385\n",
      "0.03990899999999997\n",
      "0.03993800000000003\n",
      "------------------------\n",
      "\n",
      "Final - Best Train Acc: 0.8792 Best Val acc: 0.8645\n",
      "CPU times: user 41.5 s, sys: 72 ms, total: 41.5 s\n",
      "Wall time: 41.5 s\n"
     ]
    }
   ],
   "source": [
    "%%time\n",
    "run_experiment(model, optimizer, loss_func, train_loader, test_loader,\n",
    "               device=device, sparse=True, sep=True, epochs=3,\n",
    "               print_sparse_levels=True)"
   ]
  },
  {
   "cell_type": "code",
   "execution_count": null,
   "metadata": {},
   "outputs": [],
   "source": []
  },
  {
   "cell_type": "markdown",
   "metadata": {},
   "source": [
    "### Other Code (nothing useful past this point)"
   ]
  },
  {
   "cell_type": "code",
   "execution_count": 43,
   "metadata": {},
   "outputs": [],
   "source": [
    "a = torch.tensor([1.0, 1.0, 0.0]).byte()\n",
    "b = torch.tensor([1.0, 0.0, 0.0]).byte()"
   ]
  },
  {
   "cell_type": "code",
   "execution_count": 45,
   "metadata": {},
   "outputs": [
    {
     "data": {
      "text/plain": [
       "tensor([1, 1, 0], dtype=torch.uint8)"
      ]
     },
     "execution_count": 45,
     "metadata": {},
     "output_type": "execute_result"
    }
   ],
   "source": [
    "a | b"
   ]
  }
 ],
 "metadata": {
  "kernelspec": {
   "display_name": "Python 3",
   "language": "python",
   "name": "python3"
  },
  "language_info": {
   "codemirror_mode": {
    "name": "ipython",
    "version": 3
   },
   "file_extension": ".py",
   "mimetype": "text/x-python",
   "name": "python",
   "nbconvert_exporter": "python",
   "pygments_lexer": "ipython3",
   "version": "3.6.5"
  }
 },
 "nbformat": 4,
 "nbformat_minor": 2
}
