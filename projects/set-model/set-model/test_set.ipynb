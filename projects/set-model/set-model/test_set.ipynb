{
 "cells": [
  {
   "cell_type": "code",
   "execution_count": 1,
   "metadata": {},
   "outputs": [],
   "source": [
    "%load_ext autoreload\n",
    "%autoreload 2\n",
    "\n",
    "import torch\n",
    "import torch.optim as optim\n",
    "\n",
    "torch.manual_seed(32)\n",
    "device = torch.device('cpu')\n",
    "if torch.cuda.is_available(): device = torch.device('cuda')\n",
    "\n",
    "from utils import *\n",
    "from main import *\n",
    "from models import *\n",
    "\n",
    "train_loader, test_loader = load_data('FashionMNIST')"
   ]
  },
  {
   "cell_type": "code",
   "execution_count": 2,
   "metadata": {},
   "outputs": [],
   "source": [
    "# # switch to SGD with weight decay\n",
    "model = MLP_set_samedist(device=device)\n",
    "optimizer = optim.SGD(model.parameters(), lr=1e-2, weight_decay=2e-4, momentum=0.9)\n",
    "loss_func = nn.CrossEntropyLoss()"
   ]
  },
  {
   "cell_type": "code",
   "execution_count": 3,
   "metadata": {},
   "outputs": [
    {
     "name": "stdout",
     "output_type": "stream",
     "text": [
      "Epoch: 1 Train loss: 3.5399 Train Acc: 0.8355 Val loss: 3.0840 Val Acc: 0.8588\n",
      "Epoch: 2 Train loss: 2.5449 Train Acc: 0.8796 Val loss: 2.9063 Val Acc: 0.8669\n",
      "Epoch: 3 Train loss: 2.5309 Train Acc: 0.8813 Val loss: 2.8648 Val Acc: 0.8689\n",
      "Epoch: 4 Train loss: 2.5457 Train Acc: 0.8795 Val loss: 2.9618 Val Acc: 0.8589\n",
      "Epoch: 5 Train loss: 2.5637 Train Acc: 0.8788 Val loss: 2.9922 Val Acc: 0.8614\n",
      "Epoch: 6 Train loss: 2.5925 Train Acc: 0.8768 Val loss: 2.8763 Val Acc: 0.8667\n",
      "Epoch: 7 Train loss: 2.6333 Train Acc: 0.8756 Val loss: 2.9145 Val Acc: 0.8678\n",
      "Epoch: 8 Train loss: 2.6290 Train Acc: 0.8769 Val loss: 2.9724 Val Acc: 0.8636\n",
      "Epoch: 9 Train loss: 2.6699 Train Acc: 0.8745 Val loss: 2.9856 Val Acc: 0.8645\n",
      "Epoch: 10 Train loss: 2.6559 Train Acc: 0.8748 Val loss: 3.0347 Val Acc: 0.8628\n",
      "Epoch: 11 Train loss: 2.6790 Train Acc: 0.8749 Val loss: 2.9726 Val Acc: 0.8628\n",
      "Epoch: 12 Train loss: 2.6895 Train Acc: 0.8730 Val loss: 3.0122 Val Acc: 0.8620\n",
      "Epoch: 13 Train loss: 2.6794 Train Acc: 0.8745 Val loss: 3.0397 Val Acc: 0.8587\n",
      "Epoch: 14 Train loss: 2.7158 Train Acc: 0.8712 Val loss: 3.2078 Val Acc: 0.8577\n",
      "Epoch: 15 Train loss: 2.7022 Train Acc: 0.8727 Val loss: 3.0066 Val Acc: 0.8652\n",
      "Epoch: 16 Train loss: 2.7304 Train Acc: 0.8703 Val loss: 3.2302 Val Acc: 0.8498\n",
      "Epoch: 17 Train loss: 2.7372 Train Acc: 0.8712 Val loss: 3.0248 Val Acc: 0.8621\n",
      "Epoch: 18 Train loss: 2.7546 Train Acc: 0.8704 Val loss: 3.1261 Val Acc: 0.8566\n",
      "Epoch: 19 Train loss: 2.7486 Train Acc: 0.8713 Val loss: 3.0164 Val Acc: 0.8619\n",
      "Epoch: 20 Train loss: 2.7618 Train Acc: 0.8703 Val loss: 3.0548 Val Acc: 0.8615\n",
      "Epoch: 21 Train loss: 2.7623 Train Acc: 0.8707 Val loss: 3.1730 Val Acc: 0.8588\n",
      "Epoch: 22 Train loss: 2.7664 Train Acc: 0.8719 Val loss: 3.1617 Val Acc: 0.8542\n",
      "Epoch: 23 Train loss: 2.7855 Train Acc: 0.8686 Val loss: 3.1706 Val Acc: 0.8587\n",
      "Epoch: 24 Train loss: 2.7735 Train Acc: 0.8704 Val loss: 3.1278 Val Acc: 0.8596\n",
      "Epoch: 25 Train loss: 2.7824 Train Acc: 0.8706 Val loss: 3.1331 Val Acc: 0.8585\n",
      "Epoch: 26 Train loss: 2.7669 Train Acc: 0.8688 Val loss: 3.0926 Val Acc: 0.8599\n",
      "Epoch: 27 Train loss: 2.7893 Train Acc: 0.8700 Val loss: 3.1269 Val Acc: 0.8612\n",
      "Epoch: 28 Train loss: 2.7869 Train Acc: 0.8689 Val loss: 3.0723 Val Acc: 0.8588\n",
      "Epoch: 29 Train loss: 2.7849 Train Acc: 0.8695 Val loss: 3.1471 Val Acc: 0.8577\n",
      "Epoch: 30 Train loss: 2.8042 Train Acc: 0.8683 Val loss: 3.2158 Val Acc: 0.8502\n",
      "Epoch: 31 Train loss: 2.8043 Train Acc: 0.8687 Val loss: 3.1326 Val Acc: 0.8542\n",
      "Epoch: 32 Train loss: 2.7885 Train Acc: 0.8680 Val loss: 3.1229 Val Acc: 0.8561\n",
      "Epoch: 33 Train loss: 2.7919 Train Acc: 0.8694 Val loss: 3.2175 Val Acc: 0.8482\n",
      "Epoch: 34 Train loss: 2.7941 Train Acc: 0.8684 Val loss: 3.0644 Val Acc: 0.8602\n",
      "Epoch: 35 Train loss: 2.7917 Train Acc: 0.8685 Val loss: 3.0597 Val Acc: 0.8570\n",
      "Epoch: 36 Train loss: 2.7880 Train Acc: 0.8693 Val loss: 3.1471 Val Acc: 0.8585\n",
      "Epoch: 37 Train loss: 2.7859 Train Acc: 0.8698 Val loss: 3.1338 Val Acc: 0.8547\n",
      "Epoch: 38 Train loss: 2.8120 Train Acc: 0.8687 Val loss: 3.1135 Val Acc: 0.8564\n",
      "Epoch: 39 Train loss: 2.7736 Train Acc: 0.8704 Val loss: 3.0720 Val Acc: 0.8595\n",
      "Epoch: 40 Train loss: 2.8161 Train Acc: 0.8675 Val loss: 3.0599 Val Acc: 0.8598\n",
      "Epoch: 41 Train loss: 2.7829 Train Acc: 0.8696 Val loss: 3.1340 Val Acc: 0.8554\n",
      "Epoch: 42 Train loss: 2.8021 Train Acc: 0.8688 Val loss: 3.0598 Val Acc: 0.8628\n",
      "Epoch: 43 Train loss: 2.8207 Train Acc: 0.8689 Val loss: 3.0452 Val Acc: 0.8590\n",
      "Epoch: 44 Train loss: 2.7920 Train Acc: 0.8699 Val loss: 3.1317 Val Acc: 0.8559\n",
      "Epoch: 45 Train loss: 2.7864 Train Acc: 0.8691 Val loss: 3.0274 Val Acc: 0.8593\n",
      "Epoch: 46 Train loss: 2.7812 Train Acc: 0.8698 Val loss: 3.1146 Val Acc: 0.8524\n",
      "Epoch: 47 Train loss: 2.7834 Train Acc: 0.8694 Val loss: 3.0505 Val Acc: 0.8579\n",
      "Epoch: 48 Train loss: 2.7779 Train Acc: 0.8692 Val loss: 3.0945 Val Acc: 0.8587\n",
      "Epoch: 49 Train loss: 2.7854 Train Acc: 0.8698 Val loss: 3.1728 Val Acc: 0.8545\n",
      "Epoch: 50 Train loss: 2.7576 Train Acc: 0.8711 Val loss: 3.1447 Val Acc: 0.8518\n",
      "Epoch: 51 Train loss: 2.7890 Train Acc: 0.8690 Val loss: 3.0518 Val Acc: 0.8598\n",
      "Epoch: 52 Train loss: 2.7887 Train Acc: 0.8712 Val loss: 3.1668 Val Acc: 0.8517\n",
      "Epoch: 53 Train loss: 2.7831 Train Acc: 0.8690 Val loss: 3.0888 Val Acc: 0.8543\n",
      "Epoch: 54 Train loss: 2.7721 Train Acc: 0.8708 Val loss: 3.1551 Val Acc: 0.8566\n",
      "Epoch: 55 Train loss: 2.7657 Train Acc: 0.8710 Val loss: 3.0778 Val Acc: 0.8580\n",
      "Epoch: 56 Train loss: 2.7454 Train Acc: 0.8728 Val loss: 3.0465 Val Acc: 0.8578\n",
      "Epoch: 57 Train loss: 2.7568 Train Acc: 0.8707 Val loss: 3.1755 Val Acc: 0.8515\n",
      "Epoch: 58 Train loss: 2.7823 Train Acc: 0.8697 Val loss: 3.0759 Val Acc: 0.8592\n",
      "Epoch: 59 Train loss: 2.7744 Train Acc: 0.8708 Val loss: 3.0009 Val Acc: 0.8597\n",
      "Epoch: 60 Train loss: 2.7465 Train Acc: 0.8710 Val loss: 3.0533 Val Acc: 0.8602\n",
      "Epoch: 61 Train loss: 2.7739 Train Acc: 0.8701 Val loss: 3.0533 Val Acc: 0.8623\n",
      "Epoch: 62 Train loss: 2.7279 Train Acc: 0.8717 Val loss: 3.1144 Val Acc: 0.8548\n",
      "Epoch: 63 Train loss: 2.7426 Train Acc: 0.8718 Val loss: 3.0301 Val Acc: 0.8613\n",
      "Epoch: 64 Train loss: 2.7438 Train Acc: 0.8705 Val loss: 3.0312 Val Acc: 0.8601\n",
      "Epoch: 65 Train loss: 2.7625 Train Acc: 0.8700 Val loss: 3.0237 Val Acc: 0.8609\n",
      "Epoch: 66 Train loss: 2.7681 Train Acc: 0.8716 Val loss: 3.0942 Val Acc: 0.8553\n",
      "Epoch: 67 Train loss: 2.7735 Train Acc: 0.8700 Val loss: 3.0733 Val Acc: 0.8617\n",
      "Epoch: 68 Train loss: 2.7705 Train Acc: 0.8711 Val loss: 3.0988 Val Acc: 0.8584\n",
      "Epoch: 69 Train loss: 2.7588 Train Acc: 0.8710 Val loss: 2.9949 Val Acc: 0.8615\n",
      "Epoch: 70 Train loss: 2.7684 Train Acc: 0.8707 Val loss: 3.0996 Val Acc: 0.8588\n",
      "Epoch: 71 Train loss: 2.7652 Train Acc: 0.8711 Val loss: 3.0486 Val Acc: 0.8580\n",
      "Epoch: 72 Train loss: 2.7528 Train Acc: 0.8708 Val loss: 3.1008 Val Acc: 0.8571\n",
      "Epoch: 73 Train loss: 2.7847 Train Acc: 0.8699 Val loss: 2.9901 Val Acc: 0.8599\n",
      "Epoch: 74 Train loss: 2.7642 Train Acc: 0.8702 Val loss: 3.0575 Val Acc: 0.8615\n",
      "Epoch: 75 Train loss: 2.7765 Train Acc: 0.8714 Val loss: 3.1000 Val Acc: 0.8592\n",
      "Epoch: 76 Train loss: 2.7684 Train Acc: 0.8706 Val loss: 3.0017 Val Acc: 0.8630\n",
      "Epoch: 77 Train loss: 2.7531 Train Acc: 0.8704 Val loss: 3.0519 Val Acc: 0.8575\n",
      "Epoch: 78 Train loss: 2.7477 Train Acc: 0.8712 Val loss: 3.0370 Val Acc: 0.8602\n",
      "Epoch: 79 Train loss: 2.7435 Train Acc: 0.8712 Val loss: 2.9786 Val Acc: 0.8647\n",
      "Epoch: 80 Train loss: 2.7305 Train Acc: 0.8730 Val loss: 3.0349 Val Acc: 0.8590\n",
      "Epoch: 81 Train loss: 2.7455 Train Acc: 0.8698 Val loss: 3.0251 Val Acc: 0.8614\n",
      "Epoch: 82 Train loss: 2.7531 Train Acc: 0.8716 Val loss: 3.0439 Val Acc: 0.8623\n",
      "Epoch: 83 Train loss: 2.7445 Train Acc: 0.8723 Val loss: 3.1016 Val Acc: 0.8586\n",
      "Epoch: 84 Train loss: 2.7348 Train Acc: 0.8720 Val loss: 3.0425 Val Acc: 0.8625\n",
      "Epoch: 85 Train loss: 2.7493 Train Acc: 0.8709 Val loss: 3.0337 Val Acc: 0.8624\n",
      "Epoch: 86 Train loss: 2.7477 Train Acc: 0.8711 Val loss: 3.1549 Val Acc: 0.8557\n",
      "Epoch: 87 Train loss: 2.7546 Train Acc: 0.8699 Val loss: 3.1179 Val Acc: 0.8544\n",
      "Epoch: 88 Train loss: 2.7489 Train Acc: 0.8713 Val loss: 3.0215 Val Acc: 0.8607\n",
      "Epoch: 89 Train loss: 2.7379 Train Acc: 0.8718 Val loss: 3.0706 Val Acc: 0.8607\n",
      "Epoch: 90 Train loss: 2.7398 Train Acc: 0.8734 Val loss: 3.1079 Val Acc: 0.8580\n",
      "Epoch: 91 Train loss: 2.7363 Train Acc: 0.8721 Val loss: 3.0098 Val Acc: 0.8642\n",
      "Epoch: 92 Train loss: 2.7282 Train Acc: 0.8723 Val loss: 3.0843 Val Acc: 0.8609\n",
      "Epoch: 93 Train loss: 2.7185 Train Acc: 0.8722 Val loss: 3.0564 Val Acc: 0.8625\n",
      "Epoch: 94 Train loss: 2.7266 Train Acc: 0.8723 Val loss: 3.1077 Val Acc: 0.8590\n",
      "Epoch: 95 Train loss: 2.7298 Train Acc: 0.8734 Val loss: 3.0329 Val Acc: 0.8594\n",
      "Epoch: 96 Train loss: 2.7366 Train Acc: 0.8718 Val loss: 3.1073 Val Acc: 0.8560\n",
      "Epoch: 97 Train loss: 2.7139 Train Acc: 0.8732 Val loss: 3.0413 Val Acc: 0.8597\n",
      "Epoch: 98 Train loss: 2.7192 Train Acc: 0.8739 Val loss: 3.0245 Val Acc: 0.8649\n",
      "Epoch: 99 Train loss: 2.7221 Train Acc: 0.8734 Val loss: 3.0040 Val Acc: 0.8614\n",
      "Epoch: 100 Train loss: 2.6853 Train Acc: 0.8759 Val loss: 3.0392 Val Acc: 0.8600\n",
      "\n",
      "Final - Best Train Acc: 0.8813 Best Val acc: 0.8689\n",
      "CPU times: user 23min 42s, sys: 2.83 s, total: 23min 44s\n",
      "Wall time: 23min 43s\n"
     ]
    }
   ],
   "source": [
    "%%time\n",
    "run_experiment(model, optimizer, loss_func, train_loader, test_loader,\n",
    "               device=device, sparse=True, sep=True, epochs=100,\n",
    "               print_sparse_levels=False)"
   ]
  },
  {
   "cell_type": "code",
   "execution_count": 4,
   "metadata": {},
   "outputs": [
    {
     "name": "stdout",
     "output_type": "stream",
     "text": [
      "------------------------\n",
      "0.043088010204081595\n",
      "0.03973700000000002\n",
      "0.041151999999999966\n",
      "------------------------\n"
     ]
    }
   ],
   "source": [
    "model.print_sparse_levels()"
   ]
  },
  {
   "cell_type": "code",
   "execution_count": null,
   "metadata": {},
   "outputs": [],
   "source": []
  },
  {
   "cell_type": "code",
   "execution_count": null,
   "metadata": {},
   "outputs": [],
   "source": []
  },
  {
   "cell_type": "code",
   "execution_count": null,
   "metadata": {},
   "outputs": [],
   "source": []
  }
 ],
 "metadata": {
  "kernelspec": {
   "display_name": "Python 3",
   "language": "python",
   "name": "python3"
  },
  "language_info": {
   "codemirror_mode": {
    "name": "ipython",
    "version": 3
   },
   "file_extension": ".py",
   "mimetype": "text/x-python",
   "name": "python",
   "nbconvert_exporter": "python",
   "pygments_lexer": "ipython3",
   "version": "3.6.5"
  }
 },
 "nbformat": 4,
 "nbformat_minor": 2
}
