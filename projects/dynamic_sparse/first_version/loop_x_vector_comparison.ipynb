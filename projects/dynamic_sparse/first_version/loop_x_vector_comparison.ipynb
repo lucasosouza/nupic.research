{
 "cells": [
  {
   "cell_type": "code",
   "execution_count": 1,
   "metadata": {},
   "outputs": [],
   "source": [
    "%load_ext autoreload\n",
    "%autoreload 2\n",
    "\n",
    "import torch\n",
    "import torch.optim as optim\n",
    "\n",
    "torch.manual_seed(32)\n",
    "device = torch.device('cpu')\n",
    "if torch.cuda.is_available(): device = torch.device('cuda')\n",
    "\n",
    "from utils import *\n",
    "from main import *\n",
    "from models import *\n",
    "\n",
    "train_loader, test_loader = load_data('FashionMNIST')"
   ]
  },
  {
   "cell_type": "code",
   "execution_count": 2,
   "metadata": {},
   "outputs": [],
   "source": [
    "# switch to SGD with weight decay\n",
    "model = MLP_set_loop(device=device)\n",
    "optimizer = optim.SGD(model.parameters(), lr=1e-2, weight_decay=2e-4, momentum=0.9)\n",
    "loss_func = nn.CrossEntropyLoss()"
   ]
  },
  {
   "cell_type": "code",
   "execution_count": 3,
   "metadata": {},
   "outputs": [
    {
     "name": "stdout",
     "output_type": "stream",
     "text": [
      "Epoch: 1 Train loss: 3.7420 Train Acc: 0.8347 Val loss: 42.7805 Val Acc: 0.0865\n",
      "\n",
      "Final - Best Train Acc: 0.8347 Best Val acc: 0.0865\n",
      "CPU times: user 3min 20s, sys: 16.9 s, total: 3min 36s\n",
      "Wall time: 3min 36s\n"
     ]
    }
   ],
   "source": [
    "%%time\n",
    "run_experiment(model, optimizer, loss_func, train_loader, test_loader,\n",
    "               device=device, sparse=True, sep=True, epochs=1)"
   ]
  },
  {
   "cell_type": "code",
   "execution_count": 4,
   "metadata": {},
   "outputs": [],
   "source": [
    "# switch to SGD with weight decay\n",
    "model = MLP_set(device=device)\n",
    "optimizer = optim.SGD(model.parameters(), lr=1e-2, weight_decay=2e-4, momentum=0.9)\n",
    "loss_func = nn.CrossEntropyLoss()"
   ]
  },
  {
   "cell_type": "code",
   "execution_count": 5,
   "metadata": {},
   "outputs": [
    {
     "name": "stdout",
     "output_type": "stream",
     "text": [
      "Epoch: 1 Train loss: 3.8035 Train Acc: 0.8316 Val loss: 3.8791 Val Acc: 0.8317\n",
      "\n",
      "Final - Best Train Acc: 0.8316 Best Val acc: 0.8317\n",
      "CPU times: user 14 s, sys: 68 ms, total: 14.1 s\n",
      "Wall time: 14.1 s\n"
     ]
    }
   ],
   "source": [
    "%%time\n",
    "run_experiment(model, optimizer, loss_func, train_loader, test_loader,\n",
    "               device=device, sparse=True, sep=True, epochs=1)"
   ]
  },
  {
   "cell_type": "code",
   "execution_count": null,
   "metadata": {},
   "outputs": [],
   "source": []
  }
 ],
 "metadata": {
  "kernelspec": {
   "display_name": "Python 3",
   "language": "python",
   "name": "python3"
  },
  "language_info": {
   "codemirror_mode": {
    "name": "ipython",
    "version": 3
   },
   "file_extension": ".py",
   "mimetype": "text/x-python",
   "name": "python",
   "nbconvert_exporter": "python",
   "pygments_lexer": "ipython3",
   "version": "3.6.5"
  }
 },
 "nbformat": 4,
 "nbformat_minor": 2
}
